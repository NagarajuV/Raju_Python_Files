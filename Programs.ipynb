{
 "cells": [
  {
   "cell_type": "code",
   "execution_count": 1,
   "metadata": {
    "collapsed": false
   },
   "outputs": [
    {
     "name": "stdout",
     "output_type": "stream",
     "text": [
      "Enter the number: 5\n",
      "This is an odd number\n"
     ]
    }
   ],
   "source": [
    "num=input(\"Enter the number: \")\n",
    "if num%2 == 0:\n",
    "    print \"This is an even number\"\n",
    "else:\n",
    "    print \"This is an odd number\"\n"
   ]
  },
  {
   "cell_type": "code",
   "execution_count": 3,
   "metadata": {
    "collapsed": false
   },
   "outputs": [
    {
     "name": "stdout",
     "output_type": "stream",
     "text": [
      "Enter the number: 7\n",
      "This is not a prime number\n"
     ]
    }
   ],
     },
  {
   "cell_type": "code",
   "execution_count": 4,
   "metadata": {
    "collapsed": false
   },
   "outputs": [
    {
     "name": "stdout",
     "output_type": "stream",
     "text": [
      "Enter the string: \"hello world\"\n",
      "Enter the substring: \"hld\"\n",
      "false\n"
     ]
    }
   ],
   "source": [
    "str1=input(\"Enter the string: \")\n",
    "str2=input(\"Enter the substring: \")\n",
    "if str2 in str1:\n",
    "    print \"contains string\"\n",
    "else:\n",
    "    print \"doesn't contain substring\""
   ]
  },
  {
   "cell_type": "code",
   "execution_count": 7,
   "metadata": {
    "collapsed": false
   },
   "outputs": [
    {
     "name": "stdout",
     "output_type": "stream",
     "text": [
      "Enter the string: \"fhjfdjf\"\n",
      "string doesn't contains digits\n"
     ]
    }
   ],
   "source": [
    "s=input(\"Enter the string: \")\n",
    "if s.isdigit():\n",
    "    print \"string contains only digits\"\n",
    "else:\n",
    "    print \"string doesn't contains digits\"\n",
    "\n"
   ]
  },
  {
   "cell_type": "code",
   "execution_count": 11,
   "metadata": {
    "collapsed": false
   },
   "outputs": [
    {
     "name": "stdout",
     "output_type": "stream",
     "text": [
      "Enter the string: \"85094nfdj\"\n",
      "string doesn't contains alphabets\n"
     ]
    }
   ],
   "source": [
    "s=input(\"Enter the string: \")\n",
    "if s.isalpha():\n",
    "    print \"string contains only alphabets\"\n",
    "else:\n",
    "    print \"string doesn't contains alphabets\"\n",
    "\n"
   ]
  },
  {
   "cell_type": "code",
   "execution_count": 12,
   "metadata": {
    "collapsed": false
   },
   "outputs": [
    {
     "name": "stdout",
     "output_type": "stream",
     "text": [
      "Enter the string: \"jfdkjFFF\"\n",
      "string doesn't contains capital letters\n"
     ]
    }
   ],
   "source": [
    "s=input(\"Enter the string: \")\n",
    "if s.isupper():\n",
    "    print \"string contains only capital letters\"\n",
    "else:\n",
    "    print \"string doesn't contains capital letters\"\n",
    "\n"
   ]
  },
  {
   "cell_type": "code",
   "execution_count": 13,
   "metadata": {
    "collapsed": false
   },
   "outputs": [
    {
     "name": "stdout",
     "output_type": "stream",
     "text": [
      "Enter the string: \"GDSGFodsfds\"\n",
      "string doesn't contains small letters\n"
     ]
    }
   ],
   "source": [
    "s=input(\"Enter the string: \")\n",
    "if s.islower():\n",
    "    print \"string contains only small letters\"\n",
    "else:\n",
    "    print \"string doesn't contains small letters\"\n",
    "\n"
   ]
  },
  {
   "cell_type": "code",
   "execution_count": 19,
   "metadata": {
    "collapsed": false
   },
   "outputs": [
    {
     "name": "stdout",
     "output_type": "stream",
     "text": [
      "Enter the string: \"jfdfjdsakjlf\"\n",
      "The string has no digits\n"
     ]
    }
   ],
   "source": [
    "s=input(\"Enter the string: \")\n",
    "for i in s:\n",
    "    if i.isdigit():\n",
    "        print \"There are digits in the string\"\n",
    "        break\n",
    "else:\n",
    "    print \"The string has no digits\"\n",
    "    \n",
    "    "
   ]
  },
  {
   "cell_type": "code",
   "execution_count": null,
   "metadata": {
    "collapsed": true
   },
   "outputs": [],
   "source": []
  },
  {
   "cell_type": "code",
   "execution_count": null,
   "metadata": {
    "collapsed": true
   },
   "outputs": [],
   "source": []
  },
  {
   "cell_type": "code",
   "execution_count": 20,
   "metadata": {
    "collapsed": false
   },
   "outputs": [
    {
     "name": "stdout",
     "output_type": "stream",
     "text": [
      "Enter the string: \"t498re\"\n",
      "There are alphabets in the string\n"
     ]
    }
   ],
   "source": [
    "s=input(\"Enter the string: \")\n",
    "for i in s:\n",
    "    if i.isalpha():\n",
    "        print \"There are alphabets in the string\"\n",
    "        break\n",
    "    else:\n",
    "        print \"The string has no alphabets\"\n",
    "    \n",
    "    "
   ]
  },
  {
   "cell_type": "code",
   "execution_count": 17,
   "metadata": {
    "collapsed": false
   },
   "outputs": [
    {
     "name": "stdout",
     "output_type": "stream",
     "text": [
      "Enter the string: \"fjdsj\"\n",
      "The string has no upper letters\n"
     ]
    }
   ],
   "source": [
    "s=input(\"Enter the string: \")\n",
    "for i in s:\n",
    "    if i.isupper():\n",
    "        print \"There are Upper letters in the string\"\n",
    "        break\n",
    "else:\n",
    "    print \"The string has no upper letters\"\n",
    "    \n",
    "    "
   ]
  },
  {
   "cell_type": "code",
   "execution_count": null,
   "metadata": {
    "collapsed": true
   },
   "outputs": [],
   "source": []
  },
  {
   "cell_type": "code",
   "execution_count": null,
   "metadata": {
    "collapsed": true
   },
   "outputs": [],
   "source": []
  },
  {
   "cell_type": "code",
   "execution_count": 21,
   "metadata": {
    "collapsed": false
   },
   "outputs": [
    {
     "name": "stdout",
     "output_type": "stream",
     "text": [
      "Enter the string: \"GFDSGSD\"\n",
      "The string doesnot have any small letters\n"
     ]
    }
   ],
   "source": [
    "s=input(\"Enter the string: \")\n",
    "for i in s:\n",
    "    if i.islower():\n",
    "        print \"There are small letters in the string\"\n",
    "        break\n",
    "else:\n",
    "    print \"The string has no small letters\""
   ]
  },
  {
   "cell_type": "code",
   "execution_count": 4,
   "metadata": {
    "collapsed": false
   },
   "outputs": [
    {
     "name": "stdout",
     "output_type": "stream",
     "text": [
      "Enter the a value: 5\n",
      "Enter the b value: 5\n",
      "a is divisible by b\n"
     ]
    }
   ],
   "source": [
    "a=input(\"Enter the a value: \")\n",
    "b=input(\"Enter the b value: \")\n",
    "if a/b!=0:\n",
    "    print \"a is divisible by b\"\n",
    "else:\n",
    "    print \"a is not divisible by b\""
   ]
  },
  {
   "cell_type": "code",
   "execution_count": 5,
   "metadata": {
    "collapsed": false
   },
   "outputs": [
    {
     "name": "stdout",
     "output_type": "stream",
     "text": [
      "Enter the a value: 5\n",
      "Enter the b value: 4\n",
      "a is largest number\n"
     ]
    }
   ],
   "source": [
    "a=input(\"Enter the a value: \")\n",
    "b=input(\"Enter the b value: \")\n",
    "if a>b:\n",
    "    print \"a is largest number\"\n",
    "else:\n",
    "    print \"b is largest number\""
   ]
  },
  {
   "cell_type": "code",
   "execution_count": 6,
   "metadata": {
    "collapsed": false
   },
   "outputs": [
    {
     "name": "stdout",
     "output_type": "stream",
     "text": [
      "Enter the  number: 6548\n",
      "1\n",
      "2\n",
      "4\n",
      "1637\n",
      "3274\n",
      "6548\n"
     ]
    }
   ],
   "source": [
    "num=input(\"Enter the  number: \")\n",
    "def print_factors(x):\n",
    "    for i in range(1, x+1):\n",
    "        if x%i == 0:\n",
    "            print(i)\n",
    "\n",
    "print_factors(num)\n"
   ]
  },
  {
   "cell_type": "code",
   "execution_count": 8,
   "metadata": {
    "collapsed": false
   },
   "outputs": [
    {
     "name": "stdout",
     "output_type": "stream",
     "text": [
      "54324\n"
     ]
    }
   ],
   "source": [
    "list=[543,0,3,10,90,4324,54324,4,66,706]\n",
    "largest=list[0]\n",
    "for large in list:\n",
    "    if large > largest:\n",
    "        largest=large\n",
    "print(largest)"
   ]
  },
  {
   "cell_type": "code",
   "execution_count": 13,
   "metadata": {
    "collapsed": false
   },
   "outputs": [
    {
     "name": "stdout",
     "output_type": "stream",
     "text": [
      "2\n",
      "3\n",
      "4\n",
      "5\n",
      "6\n",
      "7\n",
      "8\n",
      "9\n",
      "10\n",
      "11\n",
      "12\n",
      "13\n",
      "14\n",
      "15\n",
      "16\n",
      "17\n",
      "18\n",
      "19\n",
      "20\n",
      "21\n",
      "22\n",
      "23\n",
      "24\n",
      "25\n",
      "26\n",
      "27\n",
      "28\n",
      "29\n",
      "30\n",
      "31\n",
      "32\n",
      "33\n",
      "34\n",
      "35\n",
      "36\n",
      "37\n",
      "38\n",
      "39\n",
      "40\n",
      "41\n",
      "42\n",
      "43\n",
      "44\n",
      "45\n",
      "46\n",
      "47\n",
      "48\n",
      "49\n",
      "50\n",
      "51\n",
      "52\n",
      "53\n",
      "54\n",
      "55\n",
      "56\n",
      "57\n",
      "58\n",
      "59\n",
      "60\n",
      "61\n",
      "62\n",
      "63\n",
      "64\n",
      "65\n",
      "66\n",
      "67\n",
      "68\n",
      "69\n",
      "70\n",
      "71\n",
      "72\n",
      "73\n",
      "74\n",
      "75\n",
      "76\n",
      "77\n",
      "78\n",
      "79\n",
      "80\n",
      "81\n",
      "82\n",
      "83\n",
      "84\n",
      "85\n",
      "86\n",
      "87\n",
      "88\n",
      "89\n",
      "90\n",
      "91\n",
      "92\n",
      "93\n",
      "94\n",
      "95\n",
      "96\n",
      "97\n",
      "98\n",
      "99\n",
      "100\n",
      "101\n",
      "102\n",
      "103\n",
      "104\n",
      "105\n",
      "106\n",
      "107\n",
      "108\n",
      "109\n",
      "110\n",
      "111\n",
      "112\n",
      "113\n",
      "114\n",
      "115\n",
      "116\n",
      "117\n",
      "118\n",
      "119\n",
      "120\n",
      "121\n",
      "122\n",
      "123\n",
      "124\n",
      "125\n",
      "126\n",
      "127\n",
      "128\n",
      "129\n",
      "130\n",
      "131\n",
      "132\n",
      "133\n",
      "134\n",
      "135\n",
      "136\n",
      "137\n",
      "138\n",
      "139\n",
      "140\n",
      "141\n",
      "142\n",
      "143\n",
      "144\n",
      "145\n",
      "146\n",
      "147\n",
      "148\n",
      "149\n",
      "150\n",
      "151\n",
      "152\n",
      "153\n",
      "154\n",
      "155\n",
      "156\n",
      "157\n",
      "158\n",
      "159\n",
      "160\n",
      "161\n",
      "162\n",
      "163\n",
      "164\n",
      "165\n",
      "166\n",
      "167\n",
      "168\n",
      "169\n",
      "170\n",
      "171\n",
      "172\n",
      "173\n",
      "174\n",
      "175\n",
      "176\n",
      "177\n",
      "178\n",
      "179\n",
      "180\n",
      "181\n",
      "182\n",
      "183\n",
      "184\n",
      "185\n",
      "186\n",
      "187\n",
      "188\n",
      "189\n",
      "190\n",
      "191\n",
      "192\n",
      "193\n",
      "194\n",
      "195\n",
      "196\n",
      "197\n",
      "198\n",
      "199\n"
     ]
    }
   ],
   "source": []
  },
  {
   "cell_type": "code",
   "execution_count": null,
   "metadata": {
    "collapsed": true
   },
   "outputs": [],
   "source": []
  }
 ],
 "metadata": {
  "kernelspec": {
   "display_name": "Python 2",
   "language": "python",
   "name": "python2"
  },
  "language_info": {
   "codemirror_mode": {
    "name": "ipython",
    "version": 2
   },
   "file_extension": ".py",
   "mimetype": "text/x-python",
   "name": "python",
   "nbconvert_exporter": "python",
   "pygments_lexer": "ipython2",
   "version": "2.7.10"
  }
 },
 "nbformat": 4,
 "nbformat_minor": 2
}
