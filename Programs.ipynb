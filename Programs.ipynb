{
 "cells": [
  {
   "cell_type": "code",
   "execution_count": 1,
   "metadata": {
    "collapsed": false
   },
   "outputs": [
    {
     "name": "stdout",
     "output_type": "stream",
     "text": [
      "Enter the number: 5\n",
      "This is an odd number\n"
     ]
    }
   ],
   "source": [
    "num=input(\"Enter the number: \")\n",
    "if num%2 == 0:\n",
    "    print \"This is an even number\"\n",
    "else:\n",
    "    print \"This is an odd number\"\n"
   ]
  },
  {
   "cell_type": "code",
   "execution_count": 3,
   "metadata": {
    "collapsed": false
   },
   "outputs": [
    {
     "name": "stdout",
     "output_type": "stream",
     "text": [
      "Enter the number: 7\n",
      "This is not a prime number\n"
     ]
    }
   ],
   "source": [
    "num=input(\"Enter the number: \")\n",
    "if (num/num & num/1) == 0:\n",
    "    print \"This is a prime number\"\n",
    "else:\n",
    "    print \"This is not a prime number\""
   ]
  },
  {
   "cell_type": "code",
   "execution_count": 4,
   "metadata": {
    "collapsed": false
   },
   "outputs": [
    {
     "name": "stdout",
     "output_type": "stream",
     "text": [
      "Enter the string: \"hello world\"\n",
      "Enter the substring: \"hld\"\n",
      "false\n"
     ]
    }
   ],
   "source": [
    "str1=input(\"Enter the string: \")\n",
    "str2=input(\"Enter the substring: \")\n",
    "if str2 in str1:\n",
    "    print \"contains string\"\n",
    "else:\n",
    "    print \"doesn't contain substring\""
   ]
  },
  {
   "cell_type": "code",
   "execution_count": 7,
   "metadata": {
    "collapsed": false
   },
   "outputs": [
    {
     "name": "stdout",
     "output_type": "stream",
     "text": [
      "Enter the string: \"fhjfdjf\"\n",
      "string doesn't contains digits\n"
     ]
    }
   ],
   "source": [
    "s=input(\"Enter the string: \")\n",
    "if s.isdigit():\n",
    "    print \"string contains only digits\"\n",
    "else:\n",
    "    print \"string doesn't contains digits\"\n",
    "\n"
   ]
  },
  {
   "cell_type": "code",
   "execution_count": 11,
   "metadata": {
    "collapsed": false
   },
   "outputs": [
    {
     "name": "stdout",
     "output_type": "stream",
     "text": [
      "Enter the string: \"85094nfdj\"\n",
      "string doesn't contains alphabets\n"
     ]
    }
   ],
   "source": [
    "s=input(\"Enter the string: \")\n",
    "if s.isalpha():\n",
    "    print \"string contains only alphabets\"\n",
    "else:\n",
    "    print \"string doesn't contains alphabets\"\n",
    "\n"
   ]
  },
  {
   "cell_type": "code",
   "execution_count": 12,
   "metadata": {
    "collapsed": false
   },
   "outputs": [
    {
     "name": "stdout",
     "output_type": "stream",
     "text": [
      "Enter the string: \"jfdkjFFF\"\n",
      "string doesn't contains capital letters\n"
     ]
    }
   ],
   "source": [
    "s=input(\"Enter the string: \")\n",
    "if s.isupper():\n",
    "    print \"string contains only capital letters\"\n",
    "else:\n",
    "    print \"string doesn't contains capital letters\"\n",
    "\n"
   ]
  },
  {
   "cell_type": "code",
   "execution_count": 13,
   "metadata": {
    "collapsed": false
   },
   "outputs": [
    {
     "name": "stdout",
     "output_type": "stream",
     "text": [
      "Enter the string: \"GDSGFodsfds\"\n",
      "string doesn't contains small letters\n"
     ]
    }
   ],
   "source": [
    "s=input(\"Enter the string: \")\n",
    "if s.islower():\n",
    "    print \"string contains only small letters\"\n",
    "else:\n",
    "    print \"string doesn't contains small letters\"\n",
    "\n"
   ]
  },
  {
   "cell_type": "code",
   "execution_count": 14,
   "metadata": {
    "collapsed": false
   },
   "outputs": [
    {
     "name": "stdout",
     "output_type": "stream",
     "text": [
      "Enter the string: \"jfdskjf\"\n",
      "The string doesnot have any digit\n"
     ]
    }
   ],
   "source": [
    "s=input(\"Enter the string: \")\n",
    "for i in s:\n",
    "    if i.isdigit():\n",
    "        print \"There are digits in the string\"\n",
    "print \"The string doesnot have any digit\"\n",
    "    \n",
    "    "
   ]
  },
  {
   "cell_type": "code",
   "execution_count": 2,
   "metadata": {
    "collapsed": false
   },
   "outputs": [
    {
     "name": "stdout",
     "output_type": "stream",
     "text": [
      "Enter the string: \"5745438\"\n",
      "The string doesnot have any alphabets\n"
     ]
    }
   ],
   "source": [
    "s=input(\"Enter the string: \")\n",
    "for i in s:\n",
    "    if i.isalpha():\n",
    "        print \"There are alphabets in the string\"\n",
    "print \"The string doesnot have any alphabets\"\n",
    "    \n",
    "    "
   ]
  },
  {
   "cell_type": "code",
   "execution_count": 1,
   "metadata": {
    "collapsed": false
   },
   "outputs": [
    {
     "name": "stdout",
     "output_type": "stream",
     "text": [
      "Enter the string: \"frieljkf\"\n",
      "The string doesnot have any upper letters\n"
     ]
    }
   ],
   "source": [
    "s=input(\"Enter the string: \")\n",
    "for i in s:\n",
    "    if i.isupper():\n",
    "        print \"There are Upper letters in the string\"\n",
    "print \"The string doesnot have any upper letters\"\n",
    "    \n",
    "    "
   ]
  },
  {
   "cell_type": "code",
   "execution_count": 3,
   "metadata": {
    "collapsed": false
   },
   "outputs": [
    {
     "name": "stdout",
     "output_type": "stream",
     "text": [
      "Enter the string: \"GFDGD\"\n",
      "The string doesnot have any small letters\n"
     ]
    }
   ],
   "source": [
    "s=input(\"Enter the string: \")\n",
    "for i in s:\n",
    "    if i.islower():\n",
    "        print \"There are small letters in the string\"\n",
    "print \"The string doesnot have any small letters\""
   ]
  },
  {
   "cell_type": "code",
   "execution_count": 4,
   "metadata": {
    "collapsed": false
   },
   "outputs": [
    {
     "name": "stdout",
     "output_type": "stream",
     "text": [
      "Enter the a value: 5\n",
      "Enter the b value: 5\n",
      "a is divisible by b\n"
     ]
    }
   ],
   "source": [
    "a=input(\"Enter the a value: \")\n",
    "b=input(\"Enter the b value: \")\n",
    "if a/b!=0:\n",
    "    print \"a is divisible by b\"\n",
    "else:\n",
    "    print \"a is not divisible by b\""
   ]
  },
  {
   "cell_type": "code",
   "execution_count": 5,
   "metadata": {
    "collapsed": false
   },
   "outputs": [
    {
     "name": "stdout",
     "output_type": "stream",
     "text": [
      "Enter the a value: 5\n",
      "Enter the b value: 4\n",
      "a is largest number\n"
     ]
    }
   ],
   "source": [
    "a=input(\"Enter the a value: \")\n",
    "b=input(\"Enter the b value: \")\n",
    "if a>b:\n",
    "    print \"a is largest number\"\n",
    "else:\n",
    "    print \"b is largest number\""
   ]
  },
  {
   "cell_type": "code",
   "execution_count": 6,
   "metadata": {
    "collapsed": false
   },
   "outputs": [
    {
     "name": "stdout",
     "output_type": "stream",
     "text": [
      "Enter the  number: 6548\n",
      "1\n",
      "2\n",
      "4\n",
      "1637\n",
      "3274\n",
      "6548\n"
     ]
    }
   ],
   "source": [
    "num=input(\"Enter the  number: \")\n",
    "def print_factors(x):\n",
    "    for i in range(1, x+1):\n",
    "        if x%i == 0:\n",
    "            print(i)\n",
    "\n",
    "print_factors(num)\n"
   ]
  },
  {
   "cell_type": "code",
   "execution_count": 8,
   "metadata": {
    "collapsed": false
   },
   "outputs": [
    {
     "name": "stdout",
     "output_type": "stream",
     "text": [
      "54324\n"
     ]
    }
   ],
   "source": [
    "list=[543,0,3,10,90,4324,54324,4,66,706]\n",
    "largest=list[0]\n",
    "for large in list:\n",
    "    if large > largest:\n",
    "        largest=large\n",
    "print(largest)"
   ]
  },
  {
   "cell_type": "code",
   "execution_count": null,
   "metadata": {
    "collapsed": true
   },
   "outputs": [],
   "source": []
  }
 ],
 "metadata": {
  "kernelspec": {
   "display_name": "Python 2",
   "language": "python",
   "name": "python2"
  },
  "language_info": {
   "codemirror_mode": {
    "name": "ipython",
    "version": 2
   },
   "file_extension": ".py",
   "mimetype": "text/x-python",
   "name": "python",
   "nbconvert_exporter": "python",
   "pygments_lexer": "ipython2",
   "version": "2.7.10"
  }
 },
 "nbformat": 4,
 "nbformat_minor": 2
}
