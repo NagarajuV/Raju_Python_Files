{
 "cells": [
  {
   "cell_type": "code",
   "execution_count": 1,
   "metadata": {
    "collapsed": false
   },
   "outputs": [
    {
     "name": "stdout",
     "output_type": "stream",
     "text": [
      "Enter the number: 4\n",
      "This is an even number\n"
     ]
    }
   ],
   "source": [
    "#take a number from the user and check whether even or odd?\n",
    "num=input(\"Enter the number: \")\n",
    "if num%2 == 0:\n",
    "    print \"This is an even number\"\n",
    "else:\n",
    "    print \"This is an odd number\"\n"
   ]
  },
  {
   "cell_type": "code",
   "execution_count": 2,
   "metadata": {
    "collapsed": false
   },
   "outputs": [
    {
     "name": "stdout",
     "output_type": "stream",
     "text": [
      "Enter the string: \"hello\"\n",
      "Enter the substring: \"llo\"\n",
      "contains string\n"
     ]
    }
   ],
   "source": [
    "#write a program to chek given substring is there in actual string or not?\n",
    "\n",
    "str1=input(\"Enter the string: \")\n",
    "str2=input(\"Enter the substring: \")\n",
    "if str2 in str1:\n",
    "    print \"contains string\"\n",
    "else:\n",
    "    print \"doesn't contain substring\""
   ]
  },
  {
   "cell_type": "code",
   "execution_count": 3,
   "metadata": {
    "collapsed": false
   },
   "outputs": [
    {
     "name": "stdout",
     "output_type": "stream",
     "text": [
      "Enter a number: 100\n",
      "a is not a prime\n"
     ]
    }
   ],
   "source": [
    "#take a number from the user and check whether it is prime?\n",
    "a = input(\"Enter a number: \")\n",
    "count = 0\n",
    "if a > 2:\n",
    "    for i in range(2,a):\n",
    "        if a%i==0:\n",
    "            count += 1\n",
    "    if count<2:\n",
    "        print \"a is prime number\"\n",
    "    else:\n",
    "        print \"a is not a prime\"\n",
    "else:\n",
    "    print \"not a valid number\""
   ]
  },
  {
   "cell_type": "code",
   "execution_count": 5,
   "metadata": {
    "collapsed": false
   },
   "outputs": [
    {
     "name": "stdout",
     "output_type": "stream",
     "text": [
      "Enter the string: \"jfdj898\"\n",
      "string doesn't contains digits\n"
     ]
    }
   ],
   "source": [
    "#take a string from the user and check contains only digits or not?\n",
    "s=raw_input(\"Enter the string: \")\n",
    "if s.isdigit():\n",
    "    print \"string contains only digits\"\n",
    "else:\n",
    "    print \"string doesn't contains digits\"\n"
   ]
  },
  {
   "cell_type": "code",
   "execution_count": 6,
   "metadata": {
    "collapsed": false
   },
   "outputs": [
    {
     "name": "stdout",
     "output_type": "stream",
     "text": [
      "Enter the string: '53334'\n",
      "string doesn't contains alphabets\n"
     ]
    }
   ],
   "source": [
    "#take a string from the user and check contains only  alphabets or not?\n",
    "s=raw_input(\"Enter the string: \")\n",
    "if s.isalpha():\n",
    "    print \"string contains only alphabets\"\n",
    "else:\n",
    "    print \"string doesn't contains alphabets\"\n"
   ]
  },
  {
   "cell_type": "code",
   "execution_count": 12,
   "metadata": {
    "collapsed": false
   },
   "outputs": [
    {
     "name": "stdout",
     "output_type": "stream",
     "text": [
      "Enter a string: \"%$#^%#$^\"\n",
      "String contains only special char\n"
     ]
    }
   ],
   "source": [
    "#take a string from the user and check contains only  special chars or not?\n",
    "symbol = \"~`!@#$%^&*()_-+={}[]:>;',</?*-+\"\n",
    "s=raw_input(\"Enter a string: \")\n",
    "if i in s:\n",
    "    print \"String contains only special char\"\n",
    "else:\n",
    "    print \"String has no special char\"\n",
    "    "
   ]
  },
  {
   "cell_type": "code",
   "execution_count": 15,
   "metadata": {
    "collapsed": false
   },
   "outputs": [
    {
     "name": "stdout",
     "output_type": "stream",
     "text": [
      "Enter the string: \"GDSFDSgfgfds\"\n",
      "string doesn't contains capital letters\n"
     ]
    }
   ],
   "source": [
    "#take a string from the user and check contains only  capiatl letters or not?\n",
    "s=raw_input(\"Enter the string: \")\n",
    "if s.isupper():\n",
    "    print \"string contains only capital letters\"\n",
    "else:\n",
    "    print \"string doesn't contains capital letters\""
   ]
  },
  {
   "cell_type": "code",
   "execution_count": 16,
   "metadata": {
    "collapsed": false
   },
   "outputs": [
    {
     "name": "stdout",
     "output_type": "stream",
     "text": [
      "Enter the string: \"dfdsafdFDSFDS\"\n",
      "string doesn't contains small letters\n"
     ]
    }
   ],
   "source": [
    "#take a string from the user and check contains only  small letters or not?\n",
    "s=raw_input(\"Enter the string: \")\n",
    "if s.islower():\n",
    "    print \"string contains only small letters\"\n",
    "else:\n",
    "    print \"string doesn't contains small letters\"\n",
    "\n"
   ]
  },
  {
   "cell_type": "code",
   "execution_count": 10,
   "metadata": {
    "collapsed": false
   },
   "outputs": [
    {
     "name": "stdout",
     "output_type": "stream",
     "text": [
      "Enter the string: \"8495344\"\n",
      "There are digits in the string\n"
     ]
    }
   ],
   "source": [
    "#take a string from the user and check contains atleast one digit or not?\n",
    "s=raw_input(\"Enter the string: \")\n",
    "for i in s:\n",
    "    if i.isdigit():\n",
    "        print \"There are digits in the string\"\n",
    "        break\n",
    "else:\n",
    "    print \"The string has no digits\"\n",
    "    \n",
    "    "
   ]
  },
  {
   "cell_type": "code",
   "execution_count": 12,
   "metadata": {
    "collapsed": false
   },
   "outputs": [
    {
     "name": "stdout",
     "output_type": "stream",
     "text": [
      "Enter the string: \"dsfdsffdf\"\n",
      "There are alphabets in the string\n"
     ]
    }
   ],
   "source": [
    "#take a string from the user and check contains atleast one alphabets or not?\n",
    "s=raw_input(\"Enter the string: \")\n",
    "for i in s:\n",
    "    if i.isalpha():\n",
    "        print \"There are alphabets in the string\"\n",
    "        break\n",
    "else:\n",
    "    print \"The string has no alphabets\"\n",
    "    \n",
    "    "
   ]
  },
  {
   "cell_type": "code",
   "execution_count": 10,
   "metadata": {
    "collapsed": false
   },
   "outputs": [
    {
     "name": "stdout",
     "output_type": "stream",
     "text": [
      "Enter a string: \"%$#fds\"\n",
      "String contain special char\n"
     ]
    }
   ],
   "source": [
    "#take a string from the user and check contains atleast one chars or not?\n",
    "symbol = \"~`!@#$%^&*()_-+={}[]:>;',</?*-+\"\n",
    "s=raw_input(\"Enter a string: \")\n",
    "for i in s:\n",
    "    if i in symbol:\n",
    "        print \"String contain special char\"\n",
    "        break\n",
    "else:\n",
    "    print \"String has no special char\"\n"
   ]
  },
  {
   "cell_type": "code",
   "execution_count": 14,
   "metadata": {
    "collapsed": false
   },
   "outputs": [
    {
     "name": "stdout",
     "output_type": "stream",
     "text": [
      "Enter the string: \"DFDSAfdf\"\n",
      "There are Upper letters in the string\n"
     ]
    }
   ],
   "source": [
    "#take a string from the user and check contains atleast one capital letter or not?\n",
    "s=raw_input(\"Enter the string: \")\n",
    "for i in s:\n",
    "    if i.isupper():\n",
    "        print \"There are Upper letters in the string\"\n",
    "        break\n",
    "else:\n",
    "    print \"The string has no upper letters\"\n",
    "    \n",
    "    "
   ]
  },
  {
   "cell_type": "code",
   "execution_count": 15,
   "metadata": {
    "collapsed": false
   },
   "outputs": [
    {
     "name": "stdout",
     "output_type": "stream",
     "text": [
      "Enter the string: \"fdsFDSgds\"\n",
      "There are small letters in the string\n"
     ]
    }
   ],
   "source": [
    "#take a string from the user and check contains atleast one small letter or not?\n",
    "s=raw_input(\"Enter the string: \")\n",
    "for i in s:\n",
    "    if i.islower():\n",
    "        print \"There are small letters in the string\"\n",
    "        break\n",
    "else:\n",
    "    print \"The string has no small letters\""
   ]
  },
  {
   "cell_type": "code",
   "execution_count": 18,
   "metadata": {
    "collapsed": false
   },
   "outputs": [
    {
     "name": "stdout",
     "output_type": "stream",
     "text": [
      "Enter total number of people: 100\n",
      "Enter total number buses: 10\n",
      "Enter number of seats per bus: 5\n",
      "Buses are not sufficient\n",
      "Addition Buses required are:  10\n"
     ]
    }
   ],
   "source": [
    "#Take the input from the user for(Total number of people, toatl number of busses, Number of seats for bus). Based on the input\n",
    "#Deside whether there is sufficient busses or not and give solution for how many extra busses required.\n",
    "\n",
    "np = input(\"Enter total number of people: \")\n",
    "nb = input(\"Enter total number buses: \")\n",
    "ns = input(\"Enter number of seats per bus: \")\n",
    "if (np <= nb * ns):\n",
    "    print \"Buses are sufficient\"\n",
    "else:\n",
    "    print \"Buses are not sufficient\"\n",
    "    rp = nb * ns\n",
    "    ab = rp / ns\n",
    "    print \"Addition Buses required are: \", ab"
   ]
  },
  {
   "cell_type": "code",
   "execution_count": 19,
   "metadata": {
    "collapsed": false
   },
   "outputs": [
    {
     "name": "stdout",
     "output_type": "stream",
     "text": [
      "[1, 3, 5, 7, 9, 11, 13, 15, 17, 19, 21, 23, 25, 27, 29, 31, 33, 35, 37, 39, 41, 43, 45, 47, 49, 51, 53, 55, 57, 59, 61, 63, 65, 67, 69, 71, 73, 75, 77, 79, 81, 83, 85, 87, 89, 91, 93, 95, 97, 99]\n"
     ]
    }
   ],
   "source": [
    "#Print the first 100 odd numbers\n",
    "print range(1,100,2)"
   ]
  },
  {
   "cell_type": "code",
   "execution_count": 20,
   "metadata": {
    "collapsed": false
   },
   "outputs": [
    {
     "name": "stdout",
     "output_type": "stream",
     "text": [
      "Enter the  number: 45\n",
      "1\n",
      "3\n",
      "5\n",
      "9\n",
      "15\n",
      "45\n"
     ]
    }
   ],
   "source": [
    "#Determine the factors of a number entered  by the user\n",
    "num=input(\"Enter the  number: \")\n",
    "def print_factors(x):\n",
    "    for i in range(1, x+1):\n",
    "        if x%i == 0:\n",
    "            print(i)\n",
    "\n",
    "print_factors(num)"
   ]
  },
  {
   "cell_type": "code",
   "execution_count": 21,
   "metadata": {
    "collapsed": false
   },
   "outputs": [
    {
     "name": "stdout",
     "output_type": "stream",
     "text": [
      "Guess a number: 45\n",
      "lower\n"
     ]
    }
   ],
   "source": [
    "#Play a number guessing game (User enters a guess, you print YES or Higher or Lower)\n",
    "a = input (\"Guess a number: \")\n",
    "if a <= 50:\n",
    "    print \"lower\"\n",
    "elif a<= 50 & a <= 100:\n",
    "    print \"Higher\"\n",
    "else:\n",
    "    print \"wrong choice\""
   ]
  },
  {
   "cell_type": "code",
   "execution_count": 22,
   "metadata": {
    "collapsed": false
   },
   "outputs": [
    {
     "name": "stdout",
     "output_type": "stream",
     "text": [
      "Enter the a value: 5\n",
      "Enter the b value: 4\n",
      "a is not divisible by b\n"
     ]
    }
   ],
   "source": [
    "#Take two numbers from the user a,b check whether a is divisible by b or not?\n",
    "a=input(\"Enter the a value: \")\n",
    "b=input(\"Enter the b value: \")\n",
    "if a%b==0:\n",
    "    print \"a is divisible by b\"\n",
    "else:\n",
    "    print \"a is not divisible by b\""
   ]
  },
  {
   "cell_type": "code",
   "execution_count": 25,
   "metadata": {
    "collapsed": false
   },
   "outputs": [
    {
     "name": "stdout",
     "output_type": "stream",
     "text": [
      "Enter Age: 3\n",
      "Todler\n"
     ]
    }
   ],
   "source": [
    "#Given an age, figure out whether someone's a baby, toddler, child, teenager, adult or old codger.\n",
    "a = input (\"Enter Age: \")\n",
    "if a >= 60:\n",
    "    print \"Old codger\"\n",
    "elif a >= 20:\n",
    "    print \"Adult\"\n",
    "elif a >= 14:\n",
    "    print \"Teenager\"\n",
    "elif a>= 5:\n",
    "    print \"child\"\n",
    "elif a >= 2:\n",
    "    print \"Todler\"\n",
    "else:\n",
    "    print \"Baby\"\n"
   ]
  },
  {
   "cell_type": "code",
   "execution_count": 26,
   "metadata": {
    "collapsed": false
   },
   "outputs": [
    {
     "name": "stdout",
     "output_type": "stream",
     "text": [
      "265334\n",
      "232169\n"
     ]
    }
   ],
   "source": [
    "#Find the sum of all the multiples of 3 or 5 below 1000\n",
    "nums = 3,5\n",
    "max = 999\n",
    "\n",
    "result = 0\n",
    "for num in nums:\n",
    "    for i in range(1,max):\n",
    "        if num*i < max:\n",
    "            result += num*i\n",
    "print result\n",
    "\n",
    "result = 0\n",
    "for i in range(0,max):\n",
    "    if i%3 == 0 or i%5 == 0:\n",
    "        result += i\n",
    "\n",
    "print result"
   ]
  },
  {
   "cell_type": "code",
   "execution_count": 27,
   "metadata": {
    "collapsed": false
   },
   "outputs": [
    {
     "name": "stdout",
     "output_type": "stream",
     "text": [
      "Enter the a value: 4\n",
      "Enter the b value: 5\n",
      "b is largest number\n"
     ]
    }
   ],
   "source": [
    "# Write a program to findout big of two numbers\n",
    "a=input(\"Enter the a value: \")\n",
    "b=input(\"Enter the b value: \")\n",
    "if a>b:\n",
    "    print \"a is largest number\"\n",
    "else:\n",
    "\n",
    "    print \"b is largest number\""
   ]
  },
  {
   "cell_type": "code",
   "execution_count": 28,
   "metadata": {
    "collapsed": false
   },
   "outputs": [
    {
     "name": "stdout",
     "output_type": "stream",
     "text": [
      "54324\n"
     ]
    }
   ],
   "source": [
    "#Write a program to findout biggest number in the given numbers.\n",
    "list=[543,0,3,10,90,4324,54324,4,66,706]\n",
    "largest=list[0]\n",
    "for large in list:\n",
    "    if large > largest:\n",
    "        largest=large\n",
    "print(largest)\n",
    "#2)a = []\n",
    "#a = input(\"Enter List values: \")\n",
    "#print max(a)"
   ]
  },
  {
   "cell_type": "code",
   "execution_count": null,
   "metadata": {
    "collapsed": true
   },
   "outputs": [],
   "source": [
    "#findout third occurance of given substring"
   ]
  },
  {
   "cell_type": "code",
   "execution_count": null,
   "metadata": {
    "collapsed": true
   },
   "outputs": [],
   "source": [
    "#findout nth occurance of given substring"
   ]
  },
  {
   "cell_type": "code",
   "execution_count": null,
   "metadata": {
    "collapsed": false
   },
   "outputs": [],
   "source": [
    "#Take numbers from the user and findout min, maximum, sum, average\n",
    "b=1,2,3,4\n",
    "print \"The max digit is: \", max(b)\n",
    "print \"The min digit is: \", min(b)\n",
    "print \"The sum of digits is: \", sum(b)\n",
    "print \"The avg of digits is: \", (sum(b)/len(b))"
   ]
  },
  {
   "cell_type": "code",
   "execution_count": 36,
   "metadata": {
    "collapsed": false
   },
   "outputs": [
    {
     "data": {
      "text/plain": [
       "['emp1', 'emp2', 'emp3', 'emp4']"
      ]
     },
     "execution_count": 36,
     "metadata": {},
     "output_type": "execute_result"
    }
   ],
   "source": [
    "#names  =\"emp1,emp2,emp3,emp4\" iterate through the employee names.\n",
    "names  =\"emp1,emp2,emp3,emp4\"\n",
    "names.split(',')"
   ]
  },
  {
   "cell_type": "code",
   "execution_count": null,
   "metadata": {
    "collapsed": true
   },
   "outputs": [],
   "source": [
    "#Take actuual string, soucrce string, destination string. replce first nth occurances of soucestring with destination string of actual string"
   ]
  },
  {
   "cell_type": "code",
   "execution_count": 39,
   "metadata": {
    "collapsed": false
   },
   "outputs": [
    {
     "name": "stdout",
     "output_type": "stream",
     "text": [
      "[10, 20, 30, 70, 40, 50, 60, 80, 90, 20]\n"
     ]
    }
   ],
   "source": [
    "#l=[10,20,30,[40,50,60],70,[80,90,20]]. Convert this list as sigle dimentiona list\n",
    "l=[10,20,30,[40,50,60],70,[80,90,20]]\n",
    "l1=l.pop(3)\n",
    "l2=l.pop()\n",
    "l3=l+l1+l2\n",
    "print l3"
   ]
  },
  {
   "cell_type": "code",
   "execution_count": 38,
   "metadata": {
    "collapsed": true
   },
   "outputs": [],
   "source": [
    "#input: \"google\" print count of each character \n"
   ]
  },
  {
   "cell_type": "code",
   "execution_count": null,
   "metadata": {
    "collapsed": true
   },
   "outputs": [],
   "source": [
    "#Convert n dimentional list to single dimentiona list."
   ]
  },
  {
   "cell_type": "code",
   "execution_count": 40,
   "metadata": {
    "collapsed": false
   },
   "outputs": [
    {
     "data": {
      "text/plain": [
       "['1', '2', '3']"
      ]
     },
     "execution_count": 40,
     "metadata": {},
     "output_type": "execute_result"
    }
   ],
   "source": [
    "#l=[1,2,3] just make it as a string.\n",
    "l=[1,2,3]\n",
    "[str(i) for i in l]"
   ]
  },
  {
   "cell_type": "code",
   "execution_count": null,
   "metadata": {
    "collapsed": true
   },
   "outputs": [],
   "source": [
    "#l=[1,2,3,[4,5,6],7,[8,9,10]] for single dimentional list"
   ]
  },
  {
   "cell_type": "code",
   "execution_count": null,
   "metadata": {
    "collapsed": true
   },
   "outputs": [],
   "source": [
    "# l=['a','A','b','B','d','D','c','C'] WAP to find out case insensitive count and case insensitive search for an element."
   ]
  },
  {
   "cell_type": "code",
   "execution_count": 41,
   "metadata": {
    "collapsed": false
   },
   "outputs": [
    {
     "name": "stdout",
     "output_type": "stream",
     "text": [
      "['a', 'A', 'b', 'B', 'c', 'C', 'd', 'D']\n"
     ]
    }
   ],
   "source": [
    "#l=['a','A','b','B','d','D','c','C']  sort the list properly\n",
    "l=['a','A','b','B','d','D','c','C']\n",
    "l.sort(key= lambda x: x.upper())\n",
    "print l"
   ]
  },
  {
   "cell_type": "code",
   "execution_count": null,
   "metadata": {
    "collapsed": true
   },
   "outputs": [],
   "source": [
    "#find the start position of the largest block of repeated characters in a given string"
   ]
  },
  {
   "cell_type": "code",
   "execution_count": 42,
   "metadata": {
    "collapsed": false
   },
   "outputs": [
    {
     "name": "stdout",
     "output_type": "stream",
     "text": [
      "[5, 6, 7, 8]\n",
      "[1, 2, 3, 4]\n"
     ]
    }
   ],
   "source": [
    "#WAP to find union and intersection of lists.\n",
    "l1=[1,2,3,4]\n",
    "l2=[5,6,7,8]\n",
    "#print \"Union of lists is: \",list(set(l)|set(l1))\n",
    "print  l1 and l2\n",
    "#print \"Intersection of lists is: \",list(set(l)&set(l1))\n",
    "print l1 or l2\n",
    "\n"
   ]
  },
  {
   "cell_type": "code",
   "execution_count": null,
   "metadata": {
    "collapsed": true
   },
   "outputs": [],
   "source": [
    "#input: fun(5) output: [1,2,3,4,3,2,1]\n",
    "\n"
   ]
  },
  {
   "cell_type": "code",
   "execution_count": null,
   "metadata": {
    "collapsed": true
   },
   "outputs": [],
   "source": [
    "#input fun('abc') output: [[],][a],[b],[c],[a,b],[b,c],[c,a],[a,b,c]]"
   ]
  },
  {
   "cell_type": "code",
   "execution_count": 44,
   "metadata": {
    "collapsed": false
   },
   "outputs": [
    {
     "ename": "TypeError",
     "evalue": "'list' object is not callable",
     "output_type": "error",
     "traceback": [
      "\u001b[0;31m---------------------------------------------------------------------------\u001b[0m",
      "\u001b[0;31mTypeError\u001b[0m                                 Traceback (most recent call last)",
      "\u001b[0;32m<ipython-input-44-e090f531c0b2>\u001b[0m in \u001b[0;36m<module>\u001b[0;34m()\u001b[0m\n\u001b[1;32m      1\u001b[0m \u001b[1;31m#Remove duplicates from the list: a=[1,2,3,2,3,4,1,,3,4]\u001b[0m\u001b[1;33m\u001b[0m\u001b[1;33m\u001b[0m\u001b[0m\n\u001b[1;32m      2\u001b[0m \u001b[0ma\u001b[0m\u001b[1;33m=\u001b[0m\u001b[1;33m[\u001b[0m\u001b[1;36m1\u001b[0m\u001b[1;33m,\u001b[0m\u001b[1;36m2\u001b[0m\u001b[1;33m,\u001b[0m\u001b[1;36m3\u001b[0m\u001b[1;33m,\u001b[0m\u001b[1;36m2\u001b[0m\u001b[1;33m,\u001b[0m\u001b[1;36m3\u001b[0m\u001b[1;33m,\u001b[0m\u001b[1;36m4\u001b[0m\u001b[1;33m,\u001b[0m\u001b[1;36m1\u001b[0m\u001b[1;33m,\u001b[0m\u001b[1;36m3\u001b[0m\u001b[1;33m,\u001b[0m\u001b[1;36m4\u001b[0m\u001b[1;33m]\u001b[0m\u001b[1;33m\u001b[0m\u001b[0m\n\u001b[0;32m----> 3\u001b[0;31m \u001b[1;32mprint\u001b[0m \u001b[0mlist\u001b[0m\u001b[1;33m(\u001b[0m\u001b[0mset\u001b[0m\u001b[1;33m(\u001b[0m\u001b[0ma\u001b[0m\u001b[1;33m)\u001b[0m\u001b[1;33m)\u001b[0m\u001b[1;33m\u001b[0m\u001b[0m\n\u001b[0m",
      "\u001b[0;31mTypeError\u001b[0m: 'list' object is not callable"
     ]
    }
   ],
   "source": [
    "#Remove duplicates from the list: a=[1,2,3,2,3,4,1,,3,4]\n",
    "a=[1,2,3,2,3,4,1,3,4]\n",
    "print list(set(a))"
   ]
  },
  {
   "cell_type": "code",
   "execution_count": 45,
   "metadata": {
    "collapsed": false
   },
   "outputs": [
    {
     "data": {
      "text/plain": [
       "6"
      ]
     },
     "execution_count": 45,
     "metadata": {},
     "output_type": "execute_result"
    }
   ],
   "source": [
    "#l=['1','2','3'] get the sum of the list\n",
    "l=['1','2','3']\n",
    "l1=[int(i) for i in l]\n",
    "sum(l1)"
   ]
  },
  {
   "cell_type": "code",
   "execution_count": 46,
   "metadata": {
    "collapsed": false
   },
   "outputs": [
    {
     "name": "stdout",
     "output_type": "stream",
     "text": [
      "6\n",
      "8\n",
      "10\n",
      "12\n",
      "6\n",
      "8\n",
      "10\n",
      "12\n",
      "6\n",
      "8\n",
      "10\n",
      "12\n",
      "[6, 8, 10, 12]\n",
      "[6, 8, 10, 12]\n"
     ]
    }
   ],
   "source": [
    "#l1=[1,2,3,4] l2=[5,6,7,8] sum of two lists\n",
    "l1=[1,2,3,4] \n",
    "l2=[5,6,7,8] \n",
    "for i in range(len(l1)):\n",
    "   print l1[i]+l2[i]\n",
    "for i in zip(l1,l2):\n",
    "    print i[0]+i[1]\n",
    "for i,j in zip(l1,l2):\n",
    "    print i+j\n",
    "print [i+j for i,j in zip(l1,l2)]\n",
    "print map(lambda x,y:x+y,l1,l2)"
   ]
  },
  {
   "cell_type": "code",
   "execution_count": 5,
   "metadata": {
    "collapsed": false
   },
   "outputs": [
    {
     "name": "stdout",
     "output_type": "stream",
     "text": [
      "[42, 9, 8, 7, 4, 3, 1]\n",
      "Third Max value in the list is:  8\n"
     ]
    }
   ],
   "source": [
    "#Find third max value of element in a list with soring and without sorting a list.\n",
    "#with sorting\n",
    "l = [3,42,7,4,8,9,1]\n",
    "l2 = sorted(l, reverse=True)\n",
    "print l2\n",
    "print \"Third Max value in the list is: \", l2[2]\n",
    "\n",
    "#without sorting:\n",
    "    \n"
   ]
  },
  {
   "cell_type": "code",
   "execution_count": null,
   "metadata": {
    "collapsed": true
   },
   "outputs": [],
   "source": [
    "#Input = [\"1/1\",\"1/2\",\"1/3\",\"1/4\",\"2/5\",\"2/6\",\"2/8\"] Output = [['1/1-4'], ['2/5-6'], ['2/8']]"
   ]
  },
  {
   "cell_type": "code",
   "execution_count": null,
   "metadata": {
    "collapsed": true
   },
   "outputs": [],
   "source": [
    "#l=[1,2,3,5,7,8,9,10,11,12,13,20,22,23,24,25,26,27,20,21,22,4] output = [[1, 2, 3], [5], [7, 8, 9, 10, 11, 12, 13], [20], [22, 23, 24, 25, 26, 27], [20, 21, 22], [4]]"
   ]
  },
  {
   "cell_type": "code",
   "execution_count": 47,
   "metadata": {
    "collapsed": false
   },
   "outputs": [
    {
     "data": {
      "text/plain": [
       "['odd', 'Even', 'odd', 'Even', 'odd', 'Even']"
      ]
     },
     "execution_count": 47,
     "metadata": {},
     "output_type": "execute_result"
    }
   ],
   "source": [
    "#input = 1,2,3,4,5,6,8,10 output = odd,even,odd,even,odd,even,even,even\n",
    "l=1,2,3,4,5,6\n",
    "[\"Even\" if i%2 == 0 else \"odd\" for i in l]"
   ]
  },
  {
   "cell_type": "code",
   "execution_count": null,
   "metadata": {
    "collapsed": true
   },
   "outputs": [],
   "source": [
    "#input n=3 \n",
    "output: 111\n",
    "101\n",
    "111\n"
   ]
  },
  {
   "cell_type": "code",
   "execution_count": 49,
   "metadata": {
    "collapsed": false
   },
   "outputs": [
    {
     "data": {
      "text/plain": [
       "{'e': 1, 'g': 2, 'l': 1, 'o': 2}"
      ]
     },
     "execution_count": 49,
     "metadata": {},
     "output_type": "execute_result"
    },
    {
     "name": "stdout",
     "output_type": "stream",
     "text": [
      "\n"
     ]
    }
   ],
   "source": [
    "#input: google output: {'g':2,'o':2,'l':1,'e':1} use dictionary comprehension\n",
    "a=\"google\"\n",
    "{char:a.count(char) for char in a}"
   ]
  },
  {
   "cell_type": "code",
   "execution_count": 50,
   "metadata": {
    "collapsed": false
   },
   "outputs": [
    {
     "name": "stdout",
     "output_type": "stream",
     "text": [
      "{'k2': 'v2', 'k1': 'v1'}\n"
     ]
    },
    {
     "data": {
      "text/plain": [
       "{'k1': 'v1', 'k2': 'v2'}"
      ]
     },
     "execution_count": 50,
     "metadata": {},
     "output_type": "execute_result"
    }
   ],
   "source": [
    "#keys=['k1','k2'], values = ['v1','v2'] form a dictionary.\n",
    "d={}\n",
    "keys=['k1','k2']\n",
    "values=['v1','v2']\n",
    "for key,value in zip(keys,values):\n",
    "    d[key]=value\n",
    "print d\n",
    "{key:value for key,value in zip(keys,values)}"
   ]
  },
  {
   "cell_type": "code",
   "execution_count": 51,
   "metadata": {
    "collapsed": false
   },
   "outputs": [
    {
     "data": {
      "text/plain": [
       "[('venkat', 30), ('purnesh', 40), ('mohan', 80), ('satish', 90)]"
      ]
     },
     "execution_count": 51,
     "metadata": {},
     "output_type": "execute_result"
    }
   ],
   "source": [
    "#Sort the list marks = [(\"mohan\", 80), (\"satish\", 90), (\"purnesh\", 40), (\"venkat\", 30)] acording to descending order of marks\n",
    "\n",
    "l= [(\"mohan\", 80), (\"satish\", 90), (\"purnesh\", 40), (\"venkat\", 30)]\n",
    "sorted(l, key= lambda t: t[-1])"
   ]
  },
  {
   "cell_type": "code",
   "execution_count": null,
   "metadata": {
    "collapsed": true
   },
   "outputs": [],
   "source": [
    "#write a function to get dynamic list for floating numbers also based on strat and end and step parameters\n"
   ]
  },
  {
   "cell_type": "code",
   "execution_count": null,
   "metadata": {
    "collapsed": false
   },
   "outputs": [
    {
     "name": "stdout",
     "output_type": "stream",
     "text": [
      "6\n",
      "28\n",
      "496\n",
      "8128\n"
     ]
    }
   ],
   "source": [
    "#find out all perfect numbers in given range\n",
    "\n",
    "n = 1\n",
    "while True:\n",
    "    factors =(i for i in range(1,n) if n%i == 0) \n",
    "    if sum(factors) == n: \n",
    "        print n\n",
    "    n += 1"
   ]
  },
  {
   "cell_type": "code",
   "execution_count": null,
   "metadata": {
    "collapsed": true
   },
   "outputs": [],
   "source": [
    " #WAP to do all stack operations using lists"
   ]
  },
  {
   "cell_type": "code",
   "execution_count": null,
   "metadata": {
    "collapsed": true
   },
   "outputs": [],
   "source": [
    "#WAP to do all queue operations using lists"
   ]
  },
  {
   "cell_type": "code",
   "execution_count": null,
   "metadata": {
    "collapsed": true
   },
   "outputs": [],
   "source": [
    "#WAP to remove n occurances of specified element from a list"
   ]
  },
  {
   "cell_type": "code",
   "execution_count": null,
   "metadata": {
    "collapsed": true
   },
   "outputs": [],
   "source": [
    "#copy 1 file content in to another file(Take the source and destination file path from the user)"
   ]
  },
  {
   "cell_type": "code",
   "execution_count": null,
   "metadata": {
    "collapsed": true
   },
   "outputs": [],
   "source": [
    "#60. Show the below menu to the user:\n",
    "     1. Add a row\n",
    "     2. modify a row\n",
    "     3. delete a row\n",
    "     Go Take employees info (id,name, age, adress, sal, height, weight)\n",
    "\ta. Take id, provide employee information for that id.\n",
    "\tb. find out average salary.\n",
    "\tc. find out which age, address taking the heighest salary \n",
    "\td. find out every employee BMI value\n",
    "\te. Finally find out the Organization overall BMI"
   ]
  },
  {
   "cell_type": "code",
   "execution_count": null,
   "metadata": {
    "collapsed": true
   },
   "outputs": [],
   "source": [
    "#number of lines, words, characters"
   ]
  },
  {
   "cell_type": "code",
   "execution_count": null,
   "metadata": {
    "collapsed": true
   },
   "outputs": [],
   "source": [
    "#convert .txt file in .json"
   ]
  },
  {
   "cell_type": "code",
   "execution_count": null,
   "metadata": {
    "collapsed": true
   },
   "outputs": [],
   "source": [
    "#Take three columns disease, symptoms, advice in a file and fill the details\n",
    "Ask the user to enter symptoms. Based on this symptoms Suggest the user to what disease it may be and few advices."
   ]
  },
  {
   "cell_type": "code",
   "execution_count": null,
   "metadata": {
    "collapsed": true
   },
   "outputs": [],
   "source": [
    "#read the file which contains the size greater than your ram size"
   ]
  },
  {
   "cell_type": "code",
   "execution_count": null,
   "metadata": {
    "collapsed": true
   },
   "outputs": [],
   "source": [
    "#Read ten gb movie"
   ]
  },
  {
   "cell_type": "code",
   "execution_count": null,
   "metadata": {
    "collapsed": true
   },
   "outputs": [],
   "source": [
    "#Collect nexii emp information in a file Provide these operations.\n",
    "    \n",
    "    Menu:\n",
    "     1. Get information information of an employee\n",
    "     2. Modify employee information\n",
    "     3. delete an employee information (Only status field change in the employee file)\n",
    "     4. Add an employee."
   ]
  },
  {
   "cell_type": "code",
   "execution_count": null,
   "metadata": {
    "collapsed": true
   },
   "outputs": [],
   "source": [
    "#Take Source and destination file paths from command line arguments and copy the sourcontent into destination.\n",
    "    Make Sure that your program checking the below conditions.\n",
    "     1.if the source file not there. Should ask the user to enter new source file or want to quit a program\n",
    "     2.if the destination file already there in the specified path. Should warn the user want to proceed or want to enter new destination file name or want to quit\n"
   ]
  },
  {
   "cell_type": "code",
   "execution_count": null,
   "metadata": {
    "collapsed": true
   },
   "outputs": [],
   "source": [
    "#Bulk file copy. \n",
    "     Take source and destination file paths from a file and copy the source file content into destination file.\n",
    "     Maintain configuration file and put the below fields there\n",
    "      Source not found: Skip the copy\n",
    "      destination found: skip/replace\n",
    "     maintain a remarks log. What are the files skiped from copy because no source file found. What are the files skip/replaced because of destination file foun in the specified path"
   ]
  },
  {
   "cell_type": "code",
   "execution_count": null,
   "metadata": {
    "collapsed": true
   },
   "outputs": [],
   "source": [
    "#create user table in databaes with id,name columns and insert the below data in to table\n",
    "# take a list [2,'name2']\n",
    "# take a dictionary: {'id':3,\"name\":'name3'}\n",
    "# string \"4;name4\"\n",
    "# [{'id':5,'name':'name5'},{'id':6,\"name\":'name6'}]"
   ]
  },
  {
   "cell_type": "code",
   "execution_count": null,
   "metadata": {
    "collapsed": true
   },
   "outputs": [],
   "source": [
    "#71.Wap program to operate below menu by user by connecting a remote system.\n",
    "Program should ask for below details.\n",
    "host:\n",
    "user:\n",
    "password:\n",
    "sudo password:\n",
    "take the details connect to remote system and operate this menu:\n",
    " 1. list the softwares installed\n",
    " 2. kill a process\n",
    " 3. restart the remote system\n",
    " 4. Ram usage\n",
    " 5. CPU usage\n",
    " 6. Free space in specified disk\n",
    " 7. restart the process\n",
    " 8. check whether speciifed software installed in the remote system or not.\n",
    " 9. Pass the software and installtion steps to remote system and install the softwre in remote system."
   ]
  },
  {
   "cell_type": "code",
   "execution_count": null,
   "metadata": {
    "collapsed": true
   },
   "outputs": [],
   "source": [
    "#Migrate the data from one database management system to another database management system"
   ]
  },
  {
   "cell_type": "code",
   "execution_count": null,
   "metadata": {
    "collapsed": true
   },
   "outputs": [],
   "source": []
  },
  {
   "cell_type": "code",
   "execution_count": null,
   "metadata": {
    "collapsed": true
   },
   "outputs": [],
   "source": []
  },
  {
   "cell_type": "code",
   "execution_count": null,
   "metadata": {
    "collapsed": true
   },
   "outputs": [],
   "source": []
  }
 ],
 "metadata": {
  "kernelspec": {
   "display_name": "Python 2",
   "language": "python",
   "name": "python2"
  },
  "language_info": {
   "codemirror_mode": {
    "name": "ipython",
    "version": 2
   },
   "file_extension": ".py",
   "mimetype": "text/x-python",
   "name": "python",
   "nbconvert_exporter": "python",
   "pygments_lexer": "ipython2",
   "version": "2.7.10"
  }
 },
 "nbformat": 4,
 "nbformat_minor": 2
}
