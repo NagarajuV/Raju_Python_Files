{
 "cells": [
  {
   "cell_type": "code",
   "execution_count": 3,
   "metadata": {
    "collapsed": false
   },
   "outputs": [
    {
     "name": "stdout",
     "output_type": "stream",
     "text": [
      "Enter a number: 5\n",
      "a is prime number\n"
     ]
    }
   ],
   "source": [
    "#prime or not:\n",
    "\n",
    "a = input(\"Enter a number: \")\n",
    "count = 0\n",
    "for i in range(1,a):\n",
    "    if a%i==0:\n",
    "        count += 1\n",
    "if count<2:\n",
    "    print \"a is prime number\"\n",
    "else:\n",
    "    print \"a is not a prime\""
   ]
  },
  {
   "cell_type": "code",
   "execution_count": 6,
   "metadata": {
    "collapsed": false
   },
   "outputs": [
    {
     "name": "stdout",
     "output_type": "stream",
     "text": [
      "Enter total number of people: 100\n",
      "Enter total number buses: 10\n",
      "Enter number of seats per bus: 5\n",
      " Buses are not sufficient\n",
      "Addition Buses required are:  10\n"
     ]
    }
   ],
   "source": [
    "#buses:\n",
    "np = input(\"Enter total number of people: \")\n",
    "nb = input(\"Enter total number buses: \")\n",
    "ns = input(\"Enter number of seats per bus: \")\n",
    "if (np <= nb * ns):\n",
    "    print \"Buses are sufficient\"\n",
    "else:\n",
    "    print \"Buses are not sufficient\"\n",
    "    rp = nb * ns\n",
    "    ab = rp / ns\n",
    "    print \"Addition Buses required are: \", ab"
   ]
  },
  {
   "cell_type": "code",
   "execution_count": 7,
   "metadata": {
    "collapsed": false
   },
   "outputs": [
    {
     "name": "stdout",
     "output_type": "stream",
     "text": [
      "1\n",
      "3\n",
      "5\n",
      "7\n",
      "9\n",
      "11\n",
      "13\n",
      "15\n",
      "17\n",
      "19\n"
     ]
    }
   ],
   "source": [
    "#first 10 odd numbers:\n",
    "i = 1\n",
    "count = 1\n",
    "while (count <= 10):\n",
    "    if i%2 !=0:\n",
    "        print i\n",
    "        count = count + 1\n",
    "    i = i+1"
   ]
  },
  {
   "cell_type": "code",
   "execution_count": 1,
   "metadata": {
    "collapsed": false
   },
   "outputs": [
    {
     "name": "stdout",
     "output_type": "stream",
     "text": [
      "Guess a number: 1000\n",
      "wrong choice\n"
     ]
    }
   ],
   "source": [
    "#Guessing game:\n",
    "a = input (\"Guess a number: \")\n",
    "if a <= 50:\n",
    "    print \"lower\"\n",
    "elif a<= 50 & a <= 100:\n",
    "    print \"Higher\"\n",
    "else:\n",
    "    print \"wrong choice\""
   ]
  },
  {
   "cell_type": "code",
   "execution_count": 4,
   "metadata": {
    "collapsed": false
   },
   "outputs": [
    {
     "name": "stdout",
     "output_type": "stream",
     "text": [
      "Enter Age: 45\n",
      "Old coder\n"
     ]
    }
   ],
   "source": [
    "#age program:\n",
    "a = input (\"Enter Age: \")\n",
    "if a <= 60:\n",
    "    print \"Old coder\"\n",
    "elif a <= 20:\n",
    "    print \"Adult\"\n",
    "elif a <= 14:\n",
    "    print \"Teenager\"\n",
    "elif a<= 5:\n",
    "    print \"child\"\n",
    "elif a <= 2:\n",
    "    print \"Todler\"\n",
    "else:\n",
    "    print \"Baby\""
   ]
  },
  {
   "cell_type": "code",
   "execution_count": 5,
   "metadata": {
    "collapsed": false
   },
   "outputs": [
    {
     "name": "stdout",
     "output_type": "stream",
     "text": [
      "Enter List values: 1,2,4,5,6\n",
      "6\n"
     ]
    }
   ],
   "source": [
    "#biggest number:\n",
    "a = []\n",
    "a = input(\"Enter List values: \")\n",
    "\n",
    "print max(a)"
   ]
  },
  {
   "cell_type": "code",
   "execution_count": 12,
   "metadata": {
    "collapsed": false
   },
   "outputs": [
    {
     "data": {
      "text/plain": [
       "False"
      ]
     },
     "execution_count": 12,
     "metadata": {},
     "output_type": "execute_result"
    }
   ],
   "source": [
    "#String contain special char or not.\n",
    "s=\"jkfsdj&$^$\"\n",
    "s.isalnum()\n",
    "\n"
   ]
  },
  {
   "cell_type": "code",
   "execution_count": 18,
   "metadata": {
    "collapsed": false
   },
   "outputs": [
    {
     "name": "stdout",
     "output_type": "stream",
     "text": [
      "Enter an option: 2\n",
      "Linux selected\n",
      "other statements in program\n",
      "program ended\n"
     ]
    }
   ],
   "source": [
    "#Menu:1. windows,2. Linux,3. Mac,4. quit\n",
    "\n",
    "opt = raw_input(\"Enter an option: \")\n",
    "\n",
    "if opt == \"1\":\n",
    "    print \"windows selected\"\n",
    "elif opt == \"2\":\n",
    "    print \"Linux selected\"\n",
    "elif opt ==\"3\":\n",
    "    print \"Mac selected\"\n",
    "else:\n",
    "    print \"wrong option selected\"\n",
    "    \n",
    "\n",
    "print \"other statements in program\"\n",
    "print \"program ended\""
   ]
  },
  {
   "cell_type": "code",
   "execution_count": null,
   "metadata": {
    "collapsed": true
   },
   "outputs": [],
   "source": []
  }
 ],
 "metadata": {
  "kernelspec": {
   "display_name": "Python 2",
   "language": "python",
   "name": "python2"
  },
  "language_info": {
   "codemirror_mode": {
    "name": "ipython",
    "version": 2
   },
   "file_extension": ".py",
   "mimetype": "text/x-python",
   "name": "python",
   "nbconvert_exporter": "python",
   "pygments_lexer": "ipython2",
   "version": "2.7.10"
  }
 },
 "nbformat": 4,
 "nbformat_minor": 2
}
