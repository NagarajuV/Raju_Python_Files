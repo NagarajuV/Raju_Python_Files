{
 "cells": [
  {
   "cell_type": "code",
   "execution_count": 10,
   "metadata": {
    "collapsed": false
   },
   "outputs": [
    {
     "name": "stdout",
     "output_type": "stream",
     "text": [
      "The max digit is:  4\n",
      "The min digit is:  1\n",
      "The sum of digits is:  10\n",
      "The avg of digits is:  2\n"
     ]
    }
   ],
   "source": [
    "#27.Take some single digit numbers from the user and findout min, maximum, sum, average\n",
    "a=1,2,3,4\n",
    "\n",
    "print \"The max digit is: \", max(a)\n",
    "print \"The min digit is: \", min(a)\n",
    "print \"The sum of digits is: \", sum(a)\n",
    "print \"The avg of digits is: \", (sum(a)/len(a))"
   ]
  },
  {
   "cell_type": "code",
   "execution_count": 18,
   "metadata": {
    "collapsed": false
   },
   "outputs": [
    {
     "name": "stdout",
     "output_type": "stream",
     "text": [
      "Enter a number: 100\n",
      "000100\n"
     ]
    }
   ],
   "source": [
    "#WAP> 10 -> 000010,100 ->  000100,1000 ->  001000,2345678  ->  2345678\n",
    "a=raw_input(\"Enter a number: \")\n",
    "print a.rjust(6,'0')\n",
    "\n"
   ]
  },
  {
   "cell_type": "code",
   "execution_count": 22,
   "metadata": {
    "collapsed": false
   },
   "outputs": [
    {
     "name": "stdout",
     "output_type": "stream",
     "text": [
      "[10, 20, 30, 70, 40, 50, 60, 80, 90, 20]\n"
     ]
    }
   ],
   "source": [
    "#l=[10,20,30,[40,50,60],70,[80,90,20]]. Convert this list as sigle dimentiona list.\n",
    "\n",
    "l=[10,20,30,[40,50,60],70,[80,90,20]]\n",
    "l1=l.pop(3)\n",
    "l2=l.pop()\n",
    "l3=l+l1+l2\n",
    "print l3\n",
    "\n"
   ]
  },
  {
   "cell_type": "code",
   "execution_count": 26,
   "metadata": {
    "collapsed": false
   },
   "outputs": [
    {
     "data": {
      "text/plain": [
       "['1', '2', '3']"
      ]
     },
     "execution_count": 26,
     "metadata": {},
     "output_type": "execute_result"
    }
   ],
   "source": [
    "#l=[1,2,3] just make it as a string\n",
    "l=[1,2,3]\n",
    "[str(i) for i in l]\n",
    "\n"
   ]
  },
  {
   "cell_type": "code",
   "execution_count": 46,
   "metadata": {
    "collapsed": false
   },
   "outputs": [
    {
     "name": "stdout",
     "output_type": "stream",
     "text": [
      "Union of lists is:  [1, 2, 3, 4, 5, 6, 7, 8]\n",
      "Intersection of lists is:  []\n"
     ]
    }
   ],
   "source": [
    "#WAP to find union and intersection of lists.\n",
    "l=[1,2,3,4]\n",
    "l1=[5,6,7,8]\n",
    "print \"Union of lists is: \",list(set(l)|set(l1))\n",
    "print \"Intersection of lists is: \",list(set(l)&set(l1))"
   ]
  },
  {
   "cell_type": "code",
   "execution_count": 47,
   "metadata": {
    "collapsed": false
   },
   "outputs": [
    {
     "name": "stdout",
     "output_type": "stream",
     "text": [
      "[1, 2, 3, 4]\n"
     ]
    }
   ],
   "source": [
    "#Remove duplicates from the list: a=[1,2,3,2,3,4,1,,3,4]\n",
    "a=[1,2,3,2,3,4,1,3,4]\n",
    "print list(set(a))"
   ]
  },
  {
   "cell_type": "code",
   "execution_count": 54,
   "metadata": {
    "collapsed": false
   },
   "outputs": [
    {
     "data": {
      "text/plain": [
       "6"
      ]
     },
     "execution_count": 54,
     "metadata": {},
     "output_type": "execute_result"
    }
   ],
   "source": [
    "#l=['1','2','3'] get the sum of the list\n",
    "l=['1','2','3']\n",
    "l1=[int(i) for i in l]\n",
    "sum(l1)\n",
    "\n"
   ]
  },
  {
   "cell_type": "code",
   "execution_count": 67,
   "metadata": {
    "collapsed": false
   },
   "outputs": [
    {
     "name": "stdout",
     "output_type": "stream",
     "text": [
      "[5, 7, 9, 11]\n"
     ]
    }
   ],
   "source": [
    "#l1=[1,2,3,4] l2=[5,6,7,8] sum of two lists\n",
    "l1=[1,2,3,4]\n",
    "l2=[4,5,6,7]\n",
    "#1)for i in range(len(l1)):\n",
    " #   print l1[i]+l2[i]\n",
    "#2)for i in zip(l1,l2):\n",
    "    #print i[0]+i[1]\n",
    "#3)for i,j in zip(l1,l2):\n",
    "    #print i+j\n",
    "#print [i+j for i,j in zip(l1,l2)]\n",
    "print map(lambda x,y:x+y,l1,l2)"
   ]
  },
  {
   "cell_type": "code",
   "execution_count": 61,
   "metadata": {
    "collapsed": false
   },
   "outputs": [
    {
     "name": "stdout",
     "output_type": "stream",
     "text": [
      "Odd number, Even number, Odd number, Even number, Odd number, Even number, Odd number, Even number,\n"
     ]
    }
   ],
   "source": [
    "#input = 1,2,3,4,5,6,8,10 output = odd,even,odd,even,odd,even,even,even\n",
    "a=1,2,3,4,5,6,7,8\n",
    "for i in a:\n",
    "    if i%2==0:\n",
    "        print \"Even number\" + ',' ,\n",
    "    else:\n",
    "        print \"Odd number\" + ',' ,"
   ]
  },
  {
   "cell_type": "code",
   "execution_count": 94,
   "metadata": {
    "collapsed": false
   },
   "outputs": [
    {
     "name": "stdout",
     "output_type": "stream",
     "text": [
      "{'k2': 'v2', 'k1': 'v1'}\n"
     ]
    },
    {
     "data": {
      "text/plain": [
       "{'k1': 'v1', 'k2': 'v2'}"
      ]
     },
     "execution_count": 94,
     "metadata": {},
     "output_type": "execute_result"
    }
   ],
   "source": [
    "#keys=['k1','k2'], values = ['v1','v2'] form a dictionary.\n",
    "d={}\n",
    "keys=['k1','k2']\n",
    "values=['v1','v2']\n",
    "for key,value in zip(keys,values):\n",
    "    d[key]=value\n",
    "print d\n",
    "{key:value for key,value in zip(keys,values)}\n",
    "\n",
    "\n",
    "        "
   ]
  },
  {
   "cell_type": "code",
   "execution_count": 97,
   "metadata": {
    "collapsed": false
   },
   "outputs": [
    {
     "data": {
      "text/plain": [
       "['A', 'B', 'C', 'D', 'a', 'b', 'c', 'd']"
      ]
     },
     "execution_count": 97,
     "metadata": {},
     "output_type": "execute_result"
    }
   ],
   "source": [
    "#l=['a','A','b','B','d','D','c','C']  sort the list properly\n",
    "l=['a','A','b','B','d','D','c','C']\n",
    "sorted(l)"
   ]
  },
  {
   "cell_type": "code",
   "execution_count": 100,
   "metadata": {
    "collapsed": false
   },
   "outputs": [
    {
     "name": "stdout",
     "output_type": "stream",
     "text": [
      "[0, 1, 2, 3, 4, 5, 6, 7, 8, 9, 10, 11, 12, 13, 14, 15, 16, 17, 18, 19]\n"
     ]
    }
   ],
   "source": [
    "#find out all perfect numbers in given range\n",
    "\n",
    "l=range(20)\n",
    "print l\n",
    "\n"
   ]
  },
  {
   "cell_type": "code",
   "execution_count": null,
   "metadata": {
    "collapsed": true
   },
   "outputs": [],
   "source": []
  }
 ],
 "metadata": {
  "kernelspec": {
   "display_name": "Python 2",
   "language": "python",
   "name": "python2"
  },
  "language_info": {
   "codemirror_mode": {
    "name": "ipython",
    "version": 2
   },
   "file_extension": ".py",
   "mimetype": "text/x-python",
   "name": "python",
   "nbconvert_exporter": "python",
   "pygments_lexer": "ipython2",
   "version": "2.7.10"
  }
 },
 "nbformat": 4,
 "nbformat_minor": 2
}
